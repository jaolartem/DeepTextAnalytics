{
 "cells": [
  {
   "cell_type": "markdown",
   "metadata": {},
   "source": [
    "# Comprehensive PDF Text Analysis and Visualization\n",
    "This Notebook demonstrates the process of analyzing text from PDF files. It will extract text from PDFs in a given directory, detect the language of the text, perform textual analysis, and then create various visualizations."
   ]
  },
  {
   "cell_type": "code",
   "execution_count": null,
   "metadata": {},
   "outputs": [],
   "source": [
    "import logging\n",
    "from path_controller import words, perform_analysis_and_visualization\n",
    "\n",
    "\n",
    "\n",
    "# Configure logging\n",
    "logging.basicConfig(filename='text_anal.log', level=logging.ERROR, format='%(asctime)s:%(levelname)s:%(message)s')"
   ]
  },
  {
   "cell_type": "markdown",
   "metadata": {},
   "source": [
    "## Process and Analyze PDF Files\n",
    "In the following cell, specify the path to your directory containing PDF files. The Notebook will process these files and perform the analysis and visualizations."
   ]
  },
  {
   "cell_type": "code",
   "execution_count": null,
   "metadata": {},
   "outputs": [],
   "source": [
    "# Replace with the path to your directory containing PDF files\n",
    "path = \"DATA\"\n",
    "words_by_file = words(path)\n",
    "perform_analysis_and_visualization(words_by_file)\n"
   ]
  },
  {
   "cell_type": "markdown",
   "metadata": {},
   "source": [
    "The above execution will process each PDF file in the specified directory, perform various text analyses, and generate corresponding visualizations. These include n-gram plots, word clouds, word networks, and lexical diversity histograms, providing comprehensive insights into the textual content of the documents."
   ]
  }
 ],
 "metadata": {
  "kernelspec": {
   "display_name": "Python 3",
   "language": "python",
   "name": "python3"
  },
  "language_info": {
   "codemirror_mode": {
    "name": "ipython",
    "version": 3
   },
   "file_extension": ".py",
   "mimetype": "text/x-python",
   "name": "python",
   "nbconvert_exporter": "python",
   "pygments_lexer": "ipython3",
   "version": "3.8.18"
  }
 },
 "nbformat": 4,
 "nbformat_minor": 4
}
