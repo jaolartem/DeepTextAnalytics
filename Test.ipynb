{
 "cells": [
  {
   "cell_type": "markdown",
   "metadata": {},
   "source": [
    "# Comprehensive PDF Text Analysis and Visualization\n",
    "This Notebook demonstrates the process of analyzing text from PDF files. It will extract text from PDFs in a given directory, detect the language of the text, perform textual analysis, and then create various visualizations."
   ]
  },
  {
   "cell_type": "code",
   "execution_count": 3,
   "metadata": {},
   "outputs": [],
   "source": [
    "from path_controller import main"
   ]
  },
  {
   "cell_type": "markdown",
   "metadata": {},
   "source": [
    "## Process and Analyze PDF Files\n",
    "In the following cell, specify the path to your directory containing PDF files. The Notebook will process these files and perform the analysis and visualizations."
   ]
  },
  {
   "cell_type": "code",
   "execution_count": 4,
   "metadata": {},
   "outputs": [
    {
     "name": "stderr",
     "output_type": "stream",
     "text": [
      "ERROR:root:Error in create_wordcloud_multi for 'english': 'str' object has no attribute 'is_file'\n",
      "ERROR:root:Error in create_wordcloud_multi for 'french': 'str' object has no attribute 'is_file'\n",
      "ERROR:root:Error in create_wordcloud_multi for 'portuguese': 'str' object has no attribute 'is_file'\n",
      "ERROR:root:Error in create_wordcloud_multi for 'unknown': 'str' object has no attribute 'is_file'\n",
      "ERROR:root:Error in create_wordcloud_multi for 'all': 'str' object has no attribute 'is_file'\n"
     ]
    }
   ],
   "source": [
    "# Replace with the path to your directory containing PDF files\n",
    "path = \"DATA\"\n",
    "words_by_file = main(path)"
   ]
  },
  {
   "cell_type": "markdown",
   "metadata": {},
   "source": [
    "The above execution will process each PDF file in the specified directory, perform various text analyses, and generate corresponding visualizations. These include n-gram plots, word clouds, word networks, and lexical diversity histograms, providing comprehensive insights into the textual content of the documents."
   ]
  }
 ],
 "metadata": {
  "kernelspec": {
   "display_name": "Python 3",
   "language": "python",
   "name": "python3"
  },
  "language_info": {
   "codemirror_mode": {
    "name": "ipython",
    "version": 3
   },
   "file_extension": ".py",
   "mimetype": "text/x-python",
   "name": "python",
   "nbconvert_exporter": "python",
   "pygments_lexer": "ipython3",
   "version": "3.8.18"
  }
 },
 "nbformat": 4,
 "nbformat_minor": 4
}
